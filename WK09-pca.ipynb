{
 "cells": [
  {
   "cell_type": "code",
   "execution_count": null,
   "metadata": {},
   "outputs": [],
   "source": [
    "!wget -q https://github.com/DM-GY-9103-2024F-H/9103-utils/raw/main/src/data_utils.py"
   ]
  },
  {
   "cell_type": "code",
   "execution_count": null,
   "metadata": {},
   "outputs": [],
   "source": [
    "import matplotlib.pyplot as plt\n",
    "import pandas as pd\n",
    "\n",
    "from data_utils import PCA, StandardScaler, object_from_json_url"
   ]
  },
  {
   "cell_type": "markdown",
   "metadata": {},
   "source": [
    "### Why PCA"
   ]
  },
  {
   "cell_type": "code",
   "execution_count": null,
   "metadata": {},
   "outputs": [],
   "source": [
    "PENGUIN_URL = \"https://raw.githubusercontent.com/DM-GY-9103-2024F-H/9103-utils/refs/heads/main/datasets/json/penguins.json\"\n",
    "penguin_data = object_from_json_url(PENGUIN_URL)\n",
    "\n",
    "penguins_df = pd.DataFrame.from_records(penguin_data)\n",
    "penguins_df"
   ]
  },
  {
   "cell_type": "markdown",
   "metadata": {},
   "source": [
    "### Penguin Example\n",
    "\n",
    "Explore the penguin data.\n",
    "\n",
    "Let's encode the species column into integers.\n",
    "It's a simple encoding, so we can just do it manually using a function and the `DataFrame.apply()` command."
   ]
  },
  {
   "cell_type": "code",
   "execution_count": null,
   "metadata": {},
   "outputs": [],
   "source": [
    "species = list(penguins_df[\"species\"].unique())\n",
    "\n",
    "def species_to_label(s):\n",
    "  return species.index(s)\n",
    "\n",
    "penguins_df[\"label\"] = penguins_df[\"species\"].apply(species_to_label)\n",
    "\n",
    "penguins_df"
   ]
  },
  {
   "cell_type": "markdown",
   "metadata": {},
   "source": [
    "### Plot the Data\n",
    "\n",
    "If we're trying to get some insight about our data, we can look at covariance tables and plots of all of the possible pairs of features."
   ]
  },
  {
   "cell_type": "code",
   "execution_count": null,
   "metadata": {},
   "outputs": [],
   "source": [
    "penguins_features_df = penguins_df.drop(columns=[\"label\", \"species\"])\n",
    "\n",
    "for i,cx in enumerate(penguins_features_df.columns):\n",
    "  for j,cy in enumerate(penguins_features_df.columns):\n",
    "    if j > i:\n",
    "      plt.scatter(penguins_features_df[cx], penguins_features_df[cy], c=penguins_df[\"label\"])\n",
    "      plt.xlabel(cx)\n",
    "      plt.ylabel(cy)\n",
    "      plt.show()"
   ]
  },
  {
   "cell_type": "markdown",
   "metadata": {},
   "source": [
    "### PCA\n",
    "\n",
    "We can try to simplify this data by performing `PCA` and combining some of the original features into _principal components_."
   ]
  },
  {
   "cell_type": "code",
   "execution_count": null,
   "metadata": {},
   "outputs": [],
   "source": [
    "penguinScaler = StandardScaler()\n",
    "penguinPCA = PCA(n_components=3)"
   ]
  },
  {
   "cell_type": "code",
   "execution_count": null,
   "metadata": {},
   "outputs": [],
   "source": [
    "penguins_scaled_df = penguinScaler.fit_transform(penguins_features_df)\n",
    "penguins_pca_df = penguinPCA.fit_transform(penguins_scaled_df)\n",
    "\n",
    "penguinPCA.explained_variance()"
   ]
  },
  {
   "cell_type": "markdown",
   "metadata": {},
   "source": [
    "### Covariances\n",
    "\n",
    "Now that we have scaled data we can look at covariance tables."
   ]
  },
  {
   "cell_type": "code",
   "execution_count": null,
   "metadata": {},
   "outputs": [],
   "source": [
    "display(penguins_scaled_df.cov().round(3))\n",
    "display(penguins_pca_df.cov().round(3))"
   ]
  },
  {
   "cell_type": "markdown",
   "metadata": {},
   "source": [
    "Hmmm... the covariances of the `PCA` data are all $0$ !!\n",
    "\n",
    "But that's expected. `PCA` separates our data into new features that are combinations of the previous features, but that are themselves not related to each other."
   ]
  },
  {
   "cell_type": "markdown",
   "metadata": {},
   "source": [
    "### Plots"
   ]
  },
  {
   "cell_type": "code",
   "execution_count": null,
   "metadata": {},
   "outputs": [],
   "source": [
    "pca_column_names = penguins_pca_df.columns\n",
    "\n",
    "plt.scatter(penguins_pca_df[pca_column_names[0]], penguins_pca_df[pca_column_names[1]], c=penguins_df[\"label\"])\n",
    "plt.xlabel(pca_column_names[0])\n",
    "plt.ylabel(pca_column_names[1])\n",
    "plt.show()"
   ]
  },
  {
   "cell_type": "markdown",
   "metadata": {},
   "source": [
    "### 3D"
   ]
  },
  {
   "cell_type": "code",
   "execution_count": null,
   "metadata": {},
   "outputs": [],
   "source": [
    "# 3D\n",
    "fig = plt.figure(figsize=(8, 8))\n",
    "ax = fig.add_subplot(projection='3d')\n",
    "\n",
    "ax.scatter(penguins_pca_df[pca_column_names[0]],\n",
    "           penguins_pca_df[pca_column_names[1]],\n",
    "           penguins_pca_df[pca_column_names[2]],\n",
    "           c=penguins_df[\"label\"])\n",
    "ax.set_xlabel(pca_column_names[0])\n",
    "ax.set_ylabel(pca_column_names[1])\n",
    "ax.set_zlabel(pca_column_names[2])\n",
    "plt.show()"
   ]
  }
 ],
 "metadata": {
  "kernelspec": {
   "display_name": "9103",
   "language": "python",
   "name": "python3"
  },
  "language_info": {
   "codemirror_mode": {
    "name": "ipython",
    "version": 3
   },
   "file_extension": ".py",
   "mimetype": "text/x-python",
   "name": "python",
   "nbconvert_exporter": "python",
   "pygments_lexer": "ipython3",
   "version": "3.10.15"
  }
 },
 "nbformat": 4,
 "nbformat_minor": 2
}
